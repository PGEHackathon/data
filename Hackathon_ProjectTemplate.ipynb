{
 "cells": [
  {
   "cell_type": "markdown",
   "metadata": {},
   "source": [
    "# Energy A.I. Hackathon 2025 - Project Template \n",
    "\n",
    "## General Guidance\n",
    "\n",
    "We're expecting a workflow that could be deployed to any competent engineer or scientist with basic subsurface resource, data analytics and machine learning knowledge and they could understand and apply your workflow. \n",
    "\n",
    "### Expectations on the Workflow\n",
    "\n",
    "* include short descriptions, no 2 code blocks should be adjacent, always have a short statement to explain the next code block\n",
    "\n",
    "* be as concise as possible:\n",
    "\n",
    "    * use point form (except for the executive summary) \n",
    "    * use effective, creative figures that compine what could have been in multiple plots\n",
    "    * every line of code, statment or figure must have purpose\n",
    "    * conciseness is part of the grading, don't add content that isn't needed\n",
    "    \n",
    "* be very clear with readable code\n",
    "\n",
    "    * label every axis for every plot\n",
    "    * use readable code, logical variable names, use available functionality and define functions and classes for compactness and concise comments in the code\n",
    "    * proceed step by step, explain each important step concisely for a easy to follow narrative \n",
    "    \n",
    "  \n",
    "### Using Code From Others\n",
    "  \n",
    "You may use blocks/snipets of code from other sources with citation. To cite a set of code separate in a block and do this in the markdown above the block.\n",
    "\n",
    "The following code block is from Professor Michael Pyrcz (@GeostatsGuy), SubSurfaceDataAnalytics_PCA.ipynb from [GeostatsGuy GitHub](https://github.com/GeostatsGuy/PythonNumericalDemos/blob/master/SubsurfaceDataAnalytics_PCA.ipynb).\n",
    "\n",
    "```python\n",
    "def simple_simple_krige(df,xcol,ycol,vcol,dfl,xlcol,ylcol,vario,skmean):\n",
    "# load the variogram\n",
    "    nst = vario['nst']; pmx = 9999.9\n",
    "    cc = np.zeros(nst); aa = np.zeros(nst); it = np.zeros(nst)\n",
    "```\n",
    "\n",
    "or use inline citations with comments, such as this for a few of lines of code.\n",
    "\n",
    "```python\n",
    "def simple_simple_krige(df,xcol,ycol,vcol,dfl,xlcol,ylcol,vario,skmean): # function from Professor Michael Pyrcz,https://github.com/GeostatsGuy/PythonNumericalDemos/blob/master/SubsurfaceDataAnalytics_PCA.ipynb \n",
    "```\n",
    "\n",
    "## The Workflow Template\n",
    "\n",
    "Here's the template for your workflow.\n",
    "\n",
    "___\n",
    "\n",
    "# Energy A.I. Hackathon 2025 Workflow - [Your Team Name] \n",
    "\n",
    "#### Authors: [Your Names],  [Your Departments and Schools] \n",
    "\n",
    "#### The University of Texas at Austin, Austin, Texas, USA \n",
    "___\n",
    "\n",
    "### Executive Summary \n",
    "\n",
    "Only 4 short sentences.\n",
    "\n",
    "1. What is the problem?\n",
    "2. What did your team do to address the problem?\n",
    "3. What did your team learn?\n",
    "4. What does your team recommend going forward?\n",
    "\n",
    "___\n",
    "\n",
    "### Workflow Goal\n",
    "\n",
    "1-2 sentences \n",
    "___\n",
    "\n",
    "### Workflow Steps \n",
    "\n",
    "Enumerated steps, very short and concise overview of your methods and workflow\n",
    "\n",
    "1. **Data Analysis** - basic data checking and visualization\n",
    "2. **Feature Selection** - mutual information-based approach with minimum redundancy, maximum relevance score\n",
    "3. **Machine Learning Model \\#1** - Predict feature $X$ from $Y,Z$\n",
    "\n",
    "$\\ldots$\n"
   ]
  },
  {
   "cell_type": "markdown",
   "metadata": {},
   "source": [
    "### Import Packages"
   ]
  },
  {
   "cell_type": "code",
   "execution_count": 13,
   "metadata": {},
   "outputs": [],
   "source": [
    "import numpy as np                                      # model arrays\n",
    "import pandas as pd                                     # DataFrames\n",
    "import matplotlib.pyplot as plt                         # building plots\n",
    "import os                                               # accessing the operating system"
   ]
  },
  {
   "cell_type": "markdown",
   "metadata": {},
   "source": [
    "### Load Data\n",
    "\n",
    "The following workflow applies the .csv file '300well_MV.csv', a synthetic dataset calculated with geostatistical cosimulation by Wayne Gretzky, The Edmonton Oilers Hockey Team. The dataset is publically available [here](http://www.hasthelargehadroncolliderdestroyedtheworldyet.com/)  \n",
    "\n",
    "We will work with the following features:\n",
    "\n",
    "* **porosity** - fraction of rock void in units of percentage\n",
    "* **permeability** - ability of a fluid to flow through the rock in mil;iDarcy\n",
    "* **acoustic impedence** - product of sonic velocity and rock density in unitsof $kg/m^2s*10^3$"
   ]
  },
  {
   "cell_type": "code",
   "execution_count": 25,
   "metadata": {},
   "outputs": [],
   "source": [
    "os.chdir(\"c:/PGE383\")                                   # set the working directory\n",
    "my_data = pd.read_csv(\"unconv_MV.csv\")                  # load the comma delimited data file\n",
    "my_data = my_data.iloc[:,1:]                           # copy all rows and columns 1 through 8, note 0 column is removed"
   ]
  },
  {
   "cell_type": "markdown",
   "metadata": {},
   "source": [
    "### Functions\n",
    "\n",
    "The following functions will be used in the workflow."
   ]
  },
  {
   "cell_type": "code",
   "execution_count": 26,
   "metadata": {},
   "outputs": [],
   "source": [
    "def plot_corr(dataframe,size=10):                       # plots a correlation matrix as a heat map \n",
    "    corr = dataframe.corr()\n",
    "    fig, ax = plt.subplots(figsize=(size, size))\n",
    "    im = ax.matshow(corr,vmin = -1.0, vmax = 1.0)\n",
    "    plt.xticks(range(len(corr.columns)), corr.columns);\n",
    "    plt.yticks(range(len(corr.columns)), corr.columns);\n",
    "    plt.colorbar(im, orientation = 'vertical')\n",
    "    plt.title('Correlation Matrix')"
   ]
  },
  {
   "cell_type": "markdown",
   "metadata": {},
   "source": [
    "### Basic Data Checking and Visualization\n",
    "\n",
    "Since our method relies on the assumption of pairwise correlation, we check the correlation matrix and confirm this. \n",
    "\n",
    "* the absolute pariwise correlations exceed 0.6 for por and logperm, por and AI, AI and TOC etc. "
   ]
  },
  {
   "cell_type": "code",
   "execution_count": 27,
   "metadata": {},
   "outputs": [
    {
     "data": {
      "image/png": "[encoded data removed]",
      "text/plain": [
       "<Figure size 504x504 with 2 Axes>"
      ]
     },
     "metadata": {
      "needs_background": "light"
     },
     "output_type": "display_data"
    }
   ],
   "source": [
    "plot_corr(my_data,size = 7)"
   ]
  }
 ],
 "metadata": {
  "kernelspec": {
   "display_name": "Python 3 (ipykernel)",
   "language": "python",
   "name": "python3"
  },
  "language_info": {
   "codemirror_mode": {
    "name": "ipython",
    "version": 3
   },
   "file_extension": ".py",
   "mimetype": "text/x-python",
   "name": "python",
   "nbconvert_exporter": "python",
   "pygments_lexer": "ipython3",
   "version": "3.11.4"
  }
 },
 "nbformat": 4,
 "nbformat_minor": 2
}
